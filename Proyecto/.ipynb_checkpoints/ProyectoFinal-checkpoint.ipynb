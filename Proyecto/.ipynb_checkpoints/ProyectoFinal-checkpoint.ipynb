{
 "cells": [
  {
   "cell_type": "markdown",
   "metadata": {},
   "source": [
    "# Proyecto Final Visión por Computador.\n",
    "Implementación de una herramienta que permita recortar objetos de una imagen y pegarlos en otra sin que aparentemente se note que han sido pegados."
   ]
  },
  {
   "cell_type": "markdown",
   "metadata": {},
   "source": [
    "## Extración de los objetos.\n",
    "Para la extracción de los objetos que vamos a pegar en la otra imagen, extraeremos los contornos de los objetos.\n",
    "Este proceso puede ser algo molesto ya que tenemos que elegir unos límites para poder seleccionar los contornos que queremos, por lo que para cada imagen el umbral que debemos elegir cambia, y el tipo de umbral seleccionado también."
   ]
  },
  {
   "cell_type": "code",
   "execution_count": null,
   "metadata": {},
   "outputs": [],
   "source": [
    "import cv2\n",
    "import numpy as np\n",
    "import matplotlib.pyplot as plt\n",
    "%matplotlib inline"
   ]
  },
  {
   "cell_type": "code",
   "execution_count": null,
   "metadata": {},
   "outputs": [],
   "source": [
    "prueba = cv2.imread('pelota.jpg')\n",
    "prueba = cv2.cvtColor(src=prueba,code=cv2.COLOR_BGR2RGB)\n",
    "plt.imshow(prueba)\n",
    "plt.show()\n",
    "\n",
    "gray = cv2.cvtColor(src=prueba,code=cv2.COLOR_RGB2GRAY)\n",
    "plt.imshow(gray,'gray')\n",
    "plt.show()"
   ]
  },
  {
   "cell_type": "code",
   "execution_count": null,
   "metadata": {},
   "outputs": [],
   "source": [
    "_,thresh = cv2.threshold(gray,215,255,cv2.THRESH_BINARY_INV)\n",
    "plt.imshow(thresh,'gray')\n",
    "plt.show()"
   ]
  },
  {
   "cell_type": "code",
   "execution_count": null,
   "metadata": {
    "scrolled": false
   },
   "outputs": [],
   "source": [
    "# Extraemos los contornos de la imagen.\n",
    "_,cont,h = cv2.findContours(thresh,cv2.RETR_TREE,\n",
    "                           cv2.CHAIN_APPROX_NONE)\n",
    "\n",
    "# Detectamos el contorno de mayor área.\n",
    "max_area = 0\n",
    "for cnt in cont:\n",
    "    area = cv2.contourArea(cnt)\n",
    "    if area > max_area:\n",
    "        max_area = area\n",
    "        bst_cnt = cnt\n",
    "        \n",
    "\n",
    "mask = np.zeros(gray.shape,np.uint8)\n",
    "\n",
    "mask = cv2.drawContours(mask,[bst_cnt],0,(255,255,255),1)\n",
    "plt.imshow(mask,'gray')\n",
    "plt.show()\n",
    "\n",
    "mask = cv2.drawContours(mask,[bst_cnt],0,(255,255,255),cv2.FILLED)\n",
    "plt.imshow(mask,'gray')\n",
    "plt.show()"
   ]
  },
  {
   "cell_type": "code",
   "execution_count": null,
   "metadata": {
    "scrolled": false
   },
   "outputs": [],
   "source": [
    "# función para crear una máscara para recortar la imagen.\n",
    "def extractObjectFromImage(image,threshold=[127,255],type_of_threshold=cv2.THRESH_BINARY):\n",
    "    # Convertimos la imagen en gris.\n",
    "    gray = cv2.cvtColor(image,cv2.COLOR_BGR2GRAY)\n",
    "    plt.imshow(gray,'gray')\n",
    "    plt.show()\n",
    "    \n",
    "    # Calculamos el threshold de la imagen.\n",
    "    _,thresh = cv2.threshold(gray,threshold[0],threshold[1],type_of_threshold)\n",
    "    plt.imshow(thresh,'gray')\n",
    "    plt.show()\n",
    "    \n",
    "    # Calculamos los contornos a traves de la variable thresh.\n",
    "    # Nos quedamos con el contorno de mayor área, que será el que contenga toda la imagen.\n",
    "    # Extraemos los contornos de la imagen.\n",
    "    _,cont,h = cv2.findContours(thresh,cv2.RETR_TREE,\n",
    "                               cv2.CHAIN_APPROX_NONE)\n",
    "\n",
    "    # Detectamos el contorno de mayor área.\n",
    "    max_area = 0\n",
    "    for cnt in cont:\n",
    "        area = cv2.contourArea(cnt)\n",
    "        if area > max_area:\n",
    "            max_area = area\n",
    "            bst_cnt = cnt\n",
    "            \n",
    "    # Creamos la máscara.\n",
    "    mask = np.zeros(gray.shape,np.uint8)\n",
    "    \n",
    "    # Introducimos en la máscara el mayor contorno, y rellenamos el espacio que hay dentro.\n",
    "    mask = cv2.drawContours(mask,[bst_cnt],0,(255,255,255),cv2.FILLED)\n",
    "    plt.imshow(mask,'gray')\n",
    "    plt.show()\n",
    "\n",
    "    # Devolvemos la máscara creada.\n",
    "    return mask\n",
    "\n",
    "umbral = [200,255]\n",
    "mask_prueba = extractObjectFromImage(image=prueba,threshold=umbral,type_of_threshold=cv2.THRESH_BINARY_INV)"
   ]
  },
  {
   "cell_type": "code",
   "execution_count": null,
   "metadata": {},
   "outputs": [],
   "source": [
    "# función para crear una máscara para recortar la imagen.\n",
    "def extractObjectFromImage(image,threshold=100,type_of_threshold=cv2.THRESH_BINARY):\n",
    "    # Convertimos la imagen en gris.\n",
    "    gray = cv2.cvtColor(image,cv2.COLOR_BGR2GRAY)\n",
    "    plt.imshow(gray,'gray')\n",
    "    plt.show()\n",
    "    \n",
    "    # Calculamos las líneas de la imagen.\n",
    "    canny = cv2.Canny(gray,threshold,threshold*2)\n",
    "    \n",
    "    kernel = np.ones((5,5),np.uint8)\n",
    "    canny = cv2.dilate(canny,kernel)\n",
    "    plt.imshow(canny,'gray')\n",
    "    plt.show()\n",
    "    \n",
    "    # Calculamos el threshold de la imagen.\n",
    "    _,thresh = cv2.threshold(canny,0,255,type_of_threshold)\n",
    "    plt.imshow(thresh,'gray')\n",
    "    plt.show()\n",
    "    \n",
    "    # Calculamos los contornos a traves de la variable thresh.\n",
    "    # Nos quedamos con el contorno de mayor área, que será el que contenga toda la imagen.\n",
    "    # Extraemos los contornos de la imagen.\n",
    "    _,cont,h = cv2.findContours(thresh,cv2.RETR_TREE,\n",
    "                               cv2.CHAIN_APPROX_NONE)\n",
    "\n",
    "    # Detectamos el contorno de mayor área.\n",
    "    max_area = 0\n",
    "    for cnt in cont:\n",
    "        area = cv2.contourArea(cnt)\n",
    "        if area > max_area:\n",
    "            max_area = area\n",
    "            bst_cnt = cnt\n",
    "            \n",
    "    # Creamos la máscara.\n",
    "    mask = np.zeros(gray.shape,np.uint8)\n",
    "    \n",
    "    # Introducimos en la máscara el mayor contorno, y rellenamos el espacio que hay dentro.\n",
    "    mask = cv2.drawContours(mask,[bst_cnt],0,(255,255,255),cv2.FILLED)\n",
    "    mask = cv2.erode(mask,kernel)\n",
    "    plt.imshow(mask,'gray')\n",
    "    plt.show()\n",
    "\n",
    "    # Devolvemos la máscara creada.\n",
    "    return mask\n",
    "\n",
    "umbral = 50\n",
    "mask_prueba = extractObjectFromImage(image=prueba,threshold=umbral)"
   ]
  },
  {
   "cell_type": "code",
   "execution_count": null,
   "metadata": {},
   "outputs": [],
   "source": [
    "# Ahora obtenemos la imagen recortada.\n",
    "new_image = prueba.copy()\n",
    "new_image[np.where(mask_prueba == 0)] = 0\n",
    "plt.imshow(new_image)\n",
    "plt.show()"
   ]
  },
  {
   "cell_type": "code",
   "execution_count": null,
   "metadata": {
    "scrolled": true
   },
   "outputs": [],
   "source": [
    "# Ponemos el fondo en transparente para pegarlo en la otra imagen.\n",
    "new_gray = cv2.cvtColor(new_image,cv2.COLOR_RGB2GRAY)\n",
    "_,alpha = cv2.threshold(new_gray,0,255,cv2.THRESH_BINARY)\n",
    "r,g,b = cv2.split(new_image)\n",
    "rgba = [r,g,b,alpha]\n",
    "final_image = cv2.merge(rgba,4)\n",
    "plt.imshow(final_image)\n",
    "plt.show()"
   ]
  },
  {
   "cell_type": "code",
   "execution_count": null,
   "metadata": {},
   "outputs": [],
   "source": [
    "# Función para crear la imagen con el objeto recortado.\n",
    "# Devuelve una imagen rgba de la imagen sin fondo.\n",
    "def cropObjectFromImage(mask,image):\n",
    "    new_image = image.copy()\n",
    "    \n",
    "    # Obtenemos la imagen a color con fondo negro.\n",
    "    new_image[np.where(mask == 0)] = 0\n",
    "    plt.imshow(new_image)\n",
    "    plt.show()\n",
    "    \n",
    "    # Recortamos el fondo negro y transformamos la imagen.\n",
    "    new_gray = cv2.cvtColor(new_image,cv2.COLOR_RGB2GRAY)\n",
    "    _,alpha = cv2.threshold(new_gray,0,255,cv2.THRESH_BINARY)\n",
    "    # Si la imagen tuviera formato BGR en vez de RGB split devolvería b,g,r.\n",
    "    r,g,b = cv2.split(new_image)\n",
    "    rgba = [r,g,b,alpha]\n",
    "    final_image = cv2.merge(rgba,4)\n",
    "    plt.imshow(final_image)\n",
    "    plt.show()\n",
    "    \n",
    "    return final_image\n",
    "\n",
    "pelota = cropObjectFromImage(mask=mask_prueba,image=prueba)"
   ]
  },
  {
   "cell_type": "code",
   "execution_count": null,
   "metadata": {
    "scrolled": false
   },
   "outputs": [],
   "source": [
    "avion = cv2.imread('airplane.jpg')\n",
    "avion = cv2.cvtColor(src=avion,code=cv2.COLOR_BGR2RGB)\n",
    "plt.imshow(avion)\n",
    "plt.show()\n",
    "\n",
    "umbral = 75\n",
    "mask_avion = extractObjectFromImage(image=avion,threshold=umbral,type_of_threshold=cv2.THRESH_BINARY)"
   ]
  },
  {
   "cell_type": "code",
   "execution_count": null,
   "metadata": {},
   "outputs": [],
   "source": [
    "avion_recortado = cropObjectFromImage(mask_avion,avion)"
   ]
  },
  {
   "cell_type": "code",
   "execution_count": null,
   "metadata": {},
   "outputs": [],
   "source": [
    "sofa = cv2.imread('sofa.jpg')\n",
    "sofa = cv2.cvtColor(src=sofa,code=cv2.COLOR_BGR2RGB)\n",
    "plt.imshow(sofa)\n",
    "plt.show()\n",
    "\n",
    "umbral = 150\n",
    "mask_sofa = extractObjectFromImage(image=sofa,threshold=umbral,type_of_threshold=cv2.THRESH_BINARY_INV)"
   ]
  },
  {
   "cell_type": "code",
   "execution_count": 1,
   "metadata": {
    "scrolled": false
   },
   "outputs": [
    {
     "ename": "NameError",
     "evalue": "name 'cropObjectFromImage' is not defined",
     "output_type": "error",
     "traceback": [
      "\u001b[1;31m---------------------------------------------------------------------------\u001b[0m",
      "\u001b[1;31mNameError\u001b[0m                                 Traceback (most recent call last)",
      "\u001b[1;32m<ipython-input-1-3923e61b8c82>\u001b[0m in \u001b[0;36m<module>\u001b[1;34m()\u001b[0m\n\u001b[1;32m----> 1\u001b[1;33m \u001b[0msofa_crop\u001b[0m \u001b[1;33m=\u001b[0m \u001b[0mcropObjectFromImage\u001b[0m\u001b[1;33m(\u001b[0m\u001b[0mimage\u001b[0m\u001b[1;33m=\u001b[0m\u001b[0msofa\u001b[0m\u001b[1;33m,\u001b[0m\u001b[0mmask\u001b[0m\u001b[1;33m=\u001b[0m\u001b[0mmask_sofa\u001b[0m\u001b[1;33m)\u001b[0m\u001b[1;33m\u001b[0m\u001b[0m\n\u001b[0m",
      "\u001b[1;31mNameError\u001b[0m: name 'cropObjectFromImage' is not defined"
     ]
    }
   ],
   "source": [
    "sofa_crop = cropObjectFromImage(image=sofa,mask=mask_sofa)"
   ]
  },
  {
   "cell_type": "code",
   "execution_count": null,
   "metadata": {
    "scrolled": false
   },
   "outputs": [],
   "source": [
    "aguila = cv2.imread('aguila.png')\n",
    "aguila = cv2.cvtColor(src=aguila,code=cv2.COLOR_BGR2RGB)\n",
    "plt.imshow(aguila)\n",
    "plt.show()\n",
    "\n",
    "umbral = 120\n",
    "mask_aguila = extractObjectFromImage(image=aguila,threshold=umbral)"
   ]
  },
  {
   "cell_type": "code",
   "execution_count": null,
   "metadata": {},
   "outputs": [],
   "source": [
    "aguila_crop = cropObjectFromImage(image=aguila,mask=mask_aguila)"
   ]
  },
  {
   "cell_type": "markdown",
   "metadata": {},
   "source": [
    "Como se puede ver, en algunas imágenes se obtienen mejores resultados que en otras, ya que en unas se puede distinguir mejor el objeto del fondo debido a la imagen en blanco y negro."
   ]
  },
  {
   "cell_type": "markdown",
   "metadata": {},
   "source": [
    "## Pegado en otras imágenes.\n",
    "Ahora, pegaremos los objetos recortados en otras imágenes, además, le aplicaremos un filtro guassiano a las imágenes para suavizar la zona donde se ha pegado el objeto e intentar que parezca que no se ha pegado."
   ]
  },
  {
   "cell_type": "code",
   "execution_count": null,
   "metadata": {},
   "outputs": [],
   "source": [
    "destino_prueba = cv2.imread('nino_playa.jpg')\n",
    "destino_prueba = cv2.cvtColor(destino_prueba,cv2.COLOR_BGR2RGBA)\n",
    "dest = destino_prueba.copy()\n",
    "plt.imshow(destino_prueba)\n",
    "plt.show()\n",
    "\n",
    "plt.imshow(pelota)\n",
    "plt.show()\n",
    "destino_prueba.shape , pelota.shape"
   ]
  },
  {
   "cell_type": "code",
   "execution_count": null,
   "metadata": {},
   "outputs": [],
   "source": [
    "# Reducimos el tamaño de la pelota.\n",
    "pelota = cv2.pyrDown(pelota) #250x250\n",
    "pelota = cv2.pyrDown(pelota) #125x125\n",
    "pelota = cv2.pyrDown(pelota) #62x62\n",
    "pelota = cv2.pyrDown(pelota)\n",
    "cols,rows = pelota.shape[:2]\n",
    "plt.imshow(pelota)\n",
    "plt.show()"
   ]
  },
  {
   "cell_type": "code",
   "execution_count": null,
   "metadata": {},
   "outputs": [],
   "source": [
    "alpha_s = pelota[:,:,3]/255\n",
    "alpha_b = 1 - alpha_s\n",
    "pos_ini_x = 300\n",
    "pos_ini_y = 150\n",
    "pos_fin_x = pos_ini_x + pelota.shape[1]\n",
    "pos_fin_y = pos_ini_y + pelota.shape[0]\n",
    "\n",
    "for i in range(3):\n",
    "    destino_prueba[pos_ini_y:pos_fin_y, pos_ini_x:pos_fin_x, i] = (alpha_s * pelota[:, :, i] + \n",
    "                                                                   alpha_b * destino_prueba[pos_ini_y:pos_fin_y, pos_ini_x:pos_fin_x, i])\n",
    "\n",
    "plt.imshow(destino_prueba)\n",
    "plt.savefig(\"pelota_playa.jpg\")\n",
    "plt.show()"
   ]
  },
  {
   "cell_type": "code",
   "execution_count": null,
   "metadata": {},
   "outputs": [],
   "source": [
    "def createMaskForBlurImage(alpha_mask,width=2):\n",
    "    # Transformarmos la máscara a np.uint8 por si no lo fuera.\n",
    "    gray_mask = np.array(alpha_mask,np.uint8)\n",
    "    \n",
    "    # Utilizamos la función find contours para obtener el contorno solamente.\n",
    "    _,cont,h = cv2.findContours(gray_mask,cv2.RETR_TREE,\n",
    "                               cv2.CHAIN_APPROX_NONE)\n",
    "    \n",
    "    # Detectamos el contorno de mayor área.\n",
    "    max_area = 0\n",
    "    for cnt in cont:\n",
    "        area = cv2.contourArea(cnt)\n",
    "        if area > max_area:\n",
    "            max_area = area\n",
    "            bst_cnt = cnt\n",
    "            \n",
    "    blur_mask = np.zeros(gray_mask.shape,np.uint8)\n",
    "    blur_mask = cv2.drawContours(blur_mask,[bst_cnt],0,(255,255,255),width)\n",
    "    \n",
    "    return blur_mask\n",
    "\n",
    "mask_prueba = createMaskForBlurImage(alpha_s)\n",
    "plt.imshow(mask_prueba,'gray')\n",
    "plt.show()\n",
    "    "
   ]
  },
  {
   "cell_type": "code",
   "execution_count": null,
   "metadata": {},
   "outputs": [],
   "source": [
    "def pasteImage(src, dst, pos=[],width=2):\n",
    "    # Calculamos zonas donde la imagen src aparece.\n",
    "    alpha_s = src[:,:,3]/255\n",
    "    alpha_d = 1-alpha_s\n",
    "    \n",
    "    dst_r = dst.copy()\n",
    "    \n",
    "    # Calculamos la zona donde pegaremos la imagen.\n",
    "    x_ini = pos[1]\n",
    "    y_ini = pos[0]\n",
    "    x_fin = x_ini + src.shape[1]\n",
    "    y_fin = y_ini + src.shape[0]\n",
    "    \n",
    "    # Pegamos la imagen. R.G.B\n",
    "    for color in range(3):\n",
    "        dst_r[y_ini:y_fin,x_ini:x_fin,color] = (alpha_s*src[:,:,color] + alpha_d*dst_r[y_ini:y_fin,x_ini:x_fin,color])\n",
    "        \n",
    "    kernel_size = 5\n",
    "    blur = cv2.GaussianBlur(dst_r,(kernel_size,kernel_size),0)\n",
    "    \n",
    "    blur_mask = createMaskForBlurImage(alpha_s,width=width)\n",
    "    plt.imshow(blur_mask,'gray')\n",
    "    plt.show()\n",
    "    \n",
    "    rows,cols = blur_mask.shape\n",
    "    for color in range(3):\n",
    "        for y in range(rows):\n",
    "            for x in range(cols):\n",
    "                if(blur_mask[y,x] == 255):\n",
    "                    dst_r[y+y_ini,x+x_ini] = blur[y+y_ini,x+x_ini]\n",
    "                \n",
    "                                        \n",
    "    \n",
    "    return dst_r\n",
    "\n",
    "fin_img = pasteImage(pelota,dest,[150,300])\n",
    "plt.imshow(fin_img)\n",
    "plt.show()\n",
    "cv2.imwrite(\"p1.jpg\",cv2.cvtColor(fin_img,cv2.COLOR_RGBA2BGR) )\n"
   ]
  },
  {
   "cell_type": "code",
   "execution_count": null,
   "metadata": {
    "scrolled": true
   },
   "outputs": [],
   "source": [
    "salon = cv2.imread('salon2.jpg')\n",
    "salon = cv2.cvtColor(salon, cv2.COLOR_BGR2RGBA)\n",
    "plt.imshow(salon)\n",
    "plt.show()"
   ]
  },
  {
   "cell_type": "code",
   "execution_count": null,
   "metadata": {},
   "outputs": [],
   "source": [
    "sofa_crop.shape , salon.shape"
   ]
  },
  {
   "cell_type": "code",
   "execution_count": null,
   "metadata": {},
   "outputs": [],
   "source": [
    "sofa_crop = cv2.pyrDown(sofa_crop)\n",
    "sofa_crop = cv2.pyrDown(sofa_crop)\n",
    "sofa_crop.shape"
   ]
  },
  {
   "cell_type": "code",
   "execution_count": null,
   "metadata": {},
   "outputs": [],
   "source": [
    "fin_img = pasteImage(sofa_crop,salon,[200,300],width=3)\n",
    "plt.imshow(fin_img)\n",
    "plt.show()\n",
    "cv2.imwrite('p2.jpg',cv2.cvtColor(fin_img,cv2.COLOR_RGBA2BGR) )"
   ]
  },
  {
   "cell_type": "code",
   "execution_count": null,
   "metadata": {},
   "outputs": [],
   "source": [
    "pista_at = cv2.imread('pista.jpg')\n",
    "pista_at = cv2.cvtColor(pista_at,cv2.COLOR_BGR2RGB)\n",
    "plt.imshow(pista_at)\n",
    "plt.show()\n",
    "plt.imshow(avion_recortado)\n",
    "plt.show()"
   ]
  },
  {
   "cell_type": "code",
   "execution_count": null,
   "metadata": {},
   "outputs": [],
   "source": [
    "avion_recortado = cv2.pyrDown(avion_recortado)\n",
    "avion_recortado = cv2.pyrDown(avion_recortado)"
   ]
  },
  {
   "cell_type": "code",
   "execution_count": null,
   "metadata": {},
   "outputs": [],
   "source": [
    "plt.imshow(avion_recortado)\n",
    "plt.show()"
   ]
  },
  {
   "cell_type": "code",
   "execution_count": null,
   "metadata": {},
   "outputs": [],
   "source": [
    "final_img = pasteImage(avion_recortado,pista_at,[0,600],3)\n",
    "plt.imshow(final_img)\n",
    "plt.show()\n",
    "cv2.imwrite('p3.jpg',cv2.cvtColor(final_img,cv2.COLOR_RGBA2BGR) )"
   ]
  },
  {
   "cell_type": "code",
   "execution_count": null,
   "metadata": {},
   "outputs": [],
   "source": [
    "bosque_noche = cv2.imread('destino1.png')\n",
    "bosque_noche = cv2.cvtColor(bosque_noche,cv2.COLOR_BGR2RGB)\n",
    "plt.imshow(bosque_noche)\n",
    "plt.show()\n",
    "plt.imshow(aguila_crop)\n",
    "plt.show()"
   ]
  },
  {
   "cell_type": "code",
   "execution_count": null,
   "metadata": {},
   "outputs": [],
   "source": [
    "aguila_crop = cv2.pyrDown(aguila_crop)\n",
    "plt.imshow(aguila_crop)\n",
    "plt.show()\n",
    "\n",
    "aguila_crop.shape, bosque_noche.shape"
   ]
  },
  {
   "cell_type": "code",
   "execution_count": null,
   "metadata": {
    "scrolled": false
   },
   "outputs": [],
   "source": [
    "final_img = pasteImage(aguila_crop,bosque_noche,[40,400],1)\n",
    "plt.imshow(final_img)\n",
    "plt.show()\n",
    "cv2.imwrite('p4.jpg',cv2.cvtColor(final_img,cv2.COLOR_RGBA2BGR))"
   ]
  },
  {
   "cell_type": "markdown",
   "metadata": {},
   "source": [
    "## Posible mejora en el pegado de la imagen."
   ]
  },
  {
   "cell_type": "markdown",
   "metadata": {},
   "source": [
    "Como se puede ver, los resultados varian en la calidad, cuando más grande es el objeto que se pega en la imagen más fácil es notar que el objeto no pertenece a esa imagen. Por lo cuál, en vez de utilizar un simple filtro de alisado en los bordes del objeto que estamos pegando y alrededores, se va a utilizar las pirámides guassianas y laplaciana para internar hacer un blending de ambas imágenes de mejor calidad."
   ]
  },
  {
   "cell_type": "code",
   "execution_count": null,
   "metadata": {},
   "outputs": [],
   "source": [
    "# Función para crear una pirámide gaussiana de N niveles.\n",
    "def createGaussianPyr(image,n_levels=2):\n",
    "    # La imagen original va a contar como el nivel inicial de la pirámide.\n",
    "    img = image.copy()\n",
    "    # pyr será nuestra pirámide gaussiana.\n",
    "    pyr = [img]\n",
    "    \n",
    "    # creamos cada uno de los niveles de nuestra pirámide.\n",
    "    for i in range(n_levels-1):\n",
    "        img = cv2.pyrDown(img)\n",
    "        pyr.append(img)\n",
    "    \n",
    "    # Devolvemos la pirámide gaussina.\n",
    "    return pyr\n",
    "\n",
    "# Función para crear una pirámide laplaciana, a partir de una pirámide gaussiana.\n",
    "def createLaplacianPyr(gaussianPyr):\n",
    "    lastIt = len(gaussianPyr)-1\n",
    "    # Insertamos el último nivel de la pirámide gaussiana en la pirámide.\n",
    "    lapPyr = [gaussianPyr[lastIt]]\n",
    "    \n",
    "    for i in range(lastIt,0,-1):\n",
    "        size = gaussianPyr[i-1].shape[:2]\n",
    "        img = cv2.pyrUp(gaussianPyr[i],dstsize=(size[1],size[0]) )\n",
    "        L = cv2.subtract(gaussianPyr[i-1],img)\n",
    "        lapPyr.append(L)\n",
    "    \n",
    "    return lapPyr\n",
    "\n",
    "x_ini = 400\n",
    "y_ini = 40\n",
    "x_fin = x_ini + aguila_crop.shape[1]\n",
    "y_fin = y_ini + aguila_crop.shape[0]\n",
    "\n",
    "# Función para obtener una máscara con la forma del objeto que vamos a pegar.\n",
    "def obtainMask(img):\n",
    "    mask = img[:,:,3]/255\n",
    "    \n",
    "    return mask\n",
    "\n",
    "mask = obtainMask(aguila_crop)\n",
    "\n",
    "b_pyr = createGaussianPyr(bosque_noche[y_ini:y_fin,x_ini:x_fin,:])\n",
    "l_pyr = createLaplacianPyr(b_pyr)\n",
    "a_pyr = createGaussianPyr(aguila_crop)\n",
    "a_lPyr = createLaplacianPyr(a_pyr)\n",
    "mask_pyr = createGaussianPyr(mask)\n"
   ]
  },
  {
   "cell_type": "code",
   "execution_count": null,
   "metadata": {},
   "outputs": [],
   "source": [
    "def simplePasteImage(src, dst,mask):\n",
    "    # Calculamos zonas donde la imagen src aparece.\n",
    "    alpha_d = 1-mask\n",
    "    \n",
    "    dst_r = dst.copy()\n",
    "    \n",
    "    # Pegamos la imagen. R.G.B\n",
    "    for color in range(3):\n",
    "        dst_r[:,:,color] = (mask*src[:,:,color] + alpha_d*dst_r[:,:,color])\n",
    "    \n",
    "    return dst_r"
   ]
  },
  {
   "cell_type": "code",
   "execution_count": null,
   "metadata": {},
   "outputs": [],
   "source": [
    "def createPastePyramid(lPsrc,lPdst,maskPyr):\n",
    "    LS = []\n",
    "    lastPos = len(maskPyr)-1\n",
    "    \n",
    "    # Recorremos ambas pirámides y vamos pegando el objeto dentro de cada imagen.\n",
    "    for la,lb in zip(lPsrc,lPdst):\n",
    "        ls = simplePasteImage(la,lb,maskPyr[lastPos])\n",
    "        LS.append(ls)\n",
    "        lastPos = lastPos - 1\n",
    "        \n",
    "    return LS\n",
    "\n",
    "def reconstructFromPyramid(laplaceCombinated):\n",
    "    final_construction = laplaceCombinated[0]\n",
    "    \n",
    "    for i in range(1,len(laplaceCombinated)):\n",
    "        size = laplaceCombinated[i].shape[:2]\n",
    "        final_construction = cv2.pyrUp(final_construction,dstsize=(size[1],size[0]) )\n",
    "        final_construction = cv2.add(final_construction,laplaceCombinated[i])\n",
    "    \n",
    "    return final_construction\n",
    "        \n",
    "comb = createPastePyramid(a_lPyr,l_pyr,mask_pyr)\n",
    "fin = reconstructFromPyramid(comb)\n",
    "plt.imshow(fin)\n",
    "plt.show()\n",
    "\n",
    "bosque_noche[y_ini:y_fin,x_ini:x_fin,:] = fin\n",
    "plt.imshow(bosque_noche)\n",
    "plt.show()\n",
    "cv2.imwrite('otro_intento_aguila.jpg',cv2.cvtColor(bosque_noche,cv2.COLOR_RGBA2BGR))"
   ]
  },
  {
   "cell_type": "code",
   "execution_count": null,
   "metadata": {},
   "outputs": [],
   "source": [
    "def pasteImage2(src,dst,pos=[]):\n",
    "    x_ini = pos[1]\n",
    "    y_ini = pos[0]\n",
    "    x_fin = src.shape[1]+x_ini\n",
    "    y_fin = src.shape[0]+y_ini\n",
    "    \n",
    "    mask = obtainMask(src)\n",
    "    mask_pyr = createGaussianPyr(mask)\n",
    "    \n",
    "    laplacianSrc = createLaplacianPyr(createGaussianPyr(src))\n",
    "    for i in laplacianSrc:\n",
    "        plt.imshow(i)\n",
    "        plt.show()\n",
    "    laplacianDst = createLaplacianPyr(createGaussianPyr(dst[y_ini:y_fin,x_ini:x_fin,:]))\n",
    "    for i in laplacianDst:\n",
    "        plt.imshow(i)\n",
    "        plt.show()\n",
    "    comb = createPastePyramid(laplacianSrc,laplacianDst,mask_pyr)\n",
    "    \n",
    "    for i in comb:\n",
    "        plt.imshow(i)\n",
    "        plt.show()\n",
    "    \n",
    "    result = reconstructFromPyramid(comb)\n",
    "    \n",
    "    dst_r = dst.copy()\n",
    "    \n",
    "    dst_r[y_ini:y_fin,x_ini:x_fin,:] = result\n",
    "    \n",
    "    return dst_r\n",
    "    \n",
    "ej = pasteImage2(sofa_crop,salon,[200,300])\n",
    "plt.imshow(ej)\n",
    "plt.show()\n",
    "cv2.imwrite('otro_intento_sofa.png',cv2.cvtColor(ej,cv2.COLOR_RGBA2BGR) )"
   ]
  },
  {
   "cell_type": "code",
   "execution_count": null,
   "metadata": {
    "scrolled": false
   },
   "outputs": [],
   "source": [
    "ej = pasteImage2(pelota,dest,[150,300])\n",
    "plt.imshow(ej)\n",
    "plt.show()\n",
    "cv2.imwrite('otro_intento_pelota.jpg',cv2.cvtColor(ej,cv2.COLOR_RGBA2BGR) )"
   ]
  },
  {
   "cell_type": "code",
   "execution_count": null,
   "metadata": {
    "scrolled": false
   },
   "outputs": [],
   "source": [
    "final_img = pasteImage2(avion_recortado,pista_at,[0,600])\n",
    "plt.imshow(final_img)\n",
    "plt.show()\n",
    "cv2.imwrite('otro_intento_avion.jpg',cv2.cvtColor(final_img,cv2.COLOR_RGBA2BGR) )"
   ]
  }
 ],
 "metadata": {
  "kernelspec": {
   "display_name": "Python 3",
   "language": "python",
   "name": "python3"
  },
  "language_info": {
   "codemirror_mode": {
    "name": "ipython",
    "version": 3
   },
   "file_extension": ".py",
   "mimetype": "text/x-python",
   "name": "python",
   "nbconvert_exporter": "python",
   "pygments_lexer": "ipython3",
   "version": "3.6.3"
  }
 },
 "nbformat": 4,
 "nbformat_minor": 2
}
